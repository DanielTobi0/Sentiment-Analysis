{
  "nbformat": 4,
  "nbformat_minor": 0,
  "metadata": {
    "colab": {
      "provenance": [],
      "gpuType": "T4",
      "mount_file_id": "1iJyuNJ_ZuODumoxOFyL4ELsUEDKdI0JG",
      "authorship_tag": "ABX9TyMd/HAhBQ3uu7mcx53rfDQg"
    },
    "kernelspec": {
      "name": "python3",
      "display_name": "Python 3"
    },
    "language_info": {
      "name": "python"
    },
    "accelerator": "GPU",
    "widgets": {
      "application/vnd.jupyter.widget-state+json": {
        "ef81e57521d84806be84307976f75296": {
          "model_module": "@jupyter-widgets/controls",
          "model_name": "HBoxModel",
          "model_module_version": "1.5.0",
          "state": {
            "_dom_classes": [],
            "_model_module": "@jupyter-widgets/controls",
            "_model_module_version": "1.5.0",
            "_model_name": "HBoxModel",
            "_view_count": null,
            "_view_module": "@jupyter-widgets/controls",
            "_view_module_version": "1.5.0",
            "_view_name": "HBoxView",
            "box_style": "",
            "children": [
              "IPY_MODEL_82a21a95088e4185a03dc2b4a30014e8",
              "IPY_MODEL_8e7e8ff8e57f419a939236da2705143e",
              "IPY_MODEL_692f61c6e1844f9a954e13bf2d37a55b"
            ],
            "layout": "IPY_MODEL_f651d275eef641999df9cae2ee7bbc8e"
          }
        },
        "82a21a95088e4185a03dc2b4a30014e8": {
          "model_module": "@jupyter-widgets/controls",
          "model_name": "HTMLModel",
          "model_module_version": "1.5.0",
          "state": {
            "_dom_classes": [],
            "_model_module": "@jupyter-widgets/controls",
            "_model_module_version": "1.5.0",
            "_model_name": "HTMLModel",
            "_view_count": null,
            "_view_module": "@jupyter-widgets/controls",
            "_view_module_version": "1.5.0",
            "_view_name": "HTMLView",
            "description": "",
            "description_tooltip": null,
            "layout": "IPY_MODEL_c929d81781bf49ea8d64d13c32d57a21",
            "placeholder": "​",
            "style": "IPY_MODEL_88618fa70428486fbb316393af44cc95",
            "value": "tokenizer_config.json: 100%"
          }
        },
        "8e7e8ff8e57f419a939236da2705143e": {
          "model_module": "@jupyter-widgets/controls",
          "model_name": "FloatProgressModel",
          "model_module_version": "1.5.0",
          "state": {
            "_dom_classes": [],
            "_model_module": "@jupyter-widgets/controls",
            "_model_module_version": "1.5.0",
            "_model_name": "FloatProgressModel",
            "_view_count": null,
            "_view_module": "@jupyter-widgets/controls",
            "_view_module_version": "1.5.0",
            "_view_name": "ProgressView",
            "bar_style": "success",
            "description": "",
            "description_tooltip": null,
            "layout": "IPY_MODEL_861ed6776002442fb7c060f51a387c57",
            "max": 48,
            "min": 0,
            "orientation": "horizontal",
            "style": "IPY_MODEL_4950aa2855884d76addff97ea8baf2a4",
            "value": 48
          }
        },
        "692f61c6e1844f9a954e13bf2d37a55b": {
          "model_module": "@jupyter-widgets/controls",
          "model_name": "HTMLModel",
          "model_module_version": "1.5.0",
          "state": {
            "_dom_classes": [],
            "_model_module": "@jupyter-widgets/controls",
            "_model_module_version": "1.5.0",
            "_model_name": "HTMLModel",
            "_view_count": null,
            "_view_module": "@jupyter-widgets/controls",
            "_view_module_version": "1.5.0",
            "_view_name": "HTMLView",
            "description": "",
            "description_tooltip": null,
            "layout": "IPY_MODEL_1c5d626de10d4acfa9b27b233fe0afb2",
            "placeholder": "​",
            "style": "IPY_MODEL_7b1e4741f6644beea2f2dc5aeeb0720e",
            "value": " 48.0/48.0 [00:00&lt;00:00, 2.68kB/s]"
          }
        },
        "f651d275eef641999df9cae2ee7bbc8e": {
          "model_module": "@jupyter-widgets/base",
          "model_name": "LayoutModel",
          "model_module_version": "1.2.0",
          "state": {
            "_model_module": "@jupyter-widgets/base",
            "_model_module_version": "1.2.0",
            "_model_name": "LayoutModel",
            "_view_count": null,
            "_view_module": "@jupyter-widgets/base",
            "_view_module_version": "1.2.0",
            "_view_name": "LayoutView",
            "align_content": null,
            "align_items": null,
            "align_self": null,
            "border": null,
            "bottom": null,
            "display": null,
            "flex": null,
            "flex_flow": null,
            "grid_area": null,
            "grid_auto_columns": null,
            "grid_auto_flow": null,
            "grid_auto_rows": null,
            "grid_column": null,
            "grid_gap": null,
            "grid_row": null,
            "grid_template_areas": null,
            "grid_template_columns": null,
            "grid_template_rows": null,
            "height": null,
            "justify_content": null,
            "justify_items": null,
            "left": null,
            "margin": null,
            "max_height": null,
            "max_width": null,
            "min_height": null,
            "min_width": null,
            "object_fit": null,
            "object_position": null,
            "order": null,
            "overflow": null,
            "overflow_x": null,
            "overflow_y": null,
            "padding": null,
            "right": null,
            "top": null,
            "visibility": null,
            "width": null
          }
        },
        "c929d81781bf49ea8d64d13c32d57a21": {
          "model_module": "@jupyter-widgets/base",
          "model_name": "LayoutModel",
          "model_module_version": "1.2.0",
          "state": {
            "_model_module": "@jupyter-widgets/base",
            "_model_module_version": "1.2.0",
            "_model_name": "LayoutModel",
            "_view_count": null,
            "_view_module": "@jupyter-widgets/base",
            "_view_module_version": "1.2.0",
            "_view_name": "LayoutView",
            "align_content": null,
            "align_items": null,
            "align_self": null,
            "border": null,
            "bottom": null,
            "display": null,
            "flex": null,
            "flex_flow": null,
            "grid_area": null,
            "grid_auto_columns": null,
            "grid_auto_flow": null,
            "grid_auto_rows": null,
            "grid_column": null,
            "grid_gap": null,
            "grid_row": null,
            "grid_template_areas": null,
            "grid_template_columns": null,
            "grid_template_rows": null,
            "height": null,
            "justify_content": null,
            "justify_items": null,
            "left": null,
            "margin": null,
            "max_height": null,
            "max_width": null,
            "min_height": null,
            "min_width": null,
            "object_fit": null,
            "object_position": null,
            "order": null,
            "overflow": null,
            "overflow_x": null,
            "overflow_y": null,
            "padding": null,
            "right": null,
            "top": null,
            "visibility": null,
            "width": null
          }
        },
        "88618fa70428486fbb316393af44cc95": {
          "model_module": "@jupyter-widgets/controls",
          "model_name": "DescriptionStyleModel",
          "model_module_version": "1.5.0",
          "state": {
            "_model_module": "@jupyter-widgets/controls",
            "_model_module_version": "1.5.0",
            "_model_name": "DescriptionStyleModel",
            "_view_count": null,
            "_view_module": "@jupyter-widgets/base",
            "_view_module_version": "1.2.0",
            "_view_name": "StyleView",
            "description_width": ""
          }
        },
        "861ed6776002442fb7c060f51a387c57": {
          "model_module": "@jupyter-widgets/base",
          "model_name": "LayoutModel",
          "model_module_version": "1.2.0",
          "state": {
            "_model_module": "@jupyter-widgets/base",
            "_model_module_version": "1.2.0",
            "_model_name": "LayoutModel",
            "_view_count": null,
            "_view_module": "@jupyter-widgets/base",
            "_view_module_version": "1.2.0",
            "_view_name": "LayoutView",
            "align_content": null,
            "align_items": null,
            "align_self": null,
            "border": null,
            "bottom": null,
            "display": null,
            "flex": null,
            "flex_flow": null,
            "grid_area": null,
            "grid_auto_columns": null,
            "grid_auto_flow": null,
            "grid_auto_rows": null,
            "grid_column": null,
            "grid_gap": null,
            "grid_row": null,
            "grid_template_areas": null,
            "grid_template_columns": null,
            "grid_template_rows": null,
            "height": null,
            "justify_content": null,
            "justify_items": null,
            "left": null,
            "margin": null,
            "max_height": null,
            "max_width": null,
            "min_height": null,
            "min_width": null,
            "object_fit": null,
            "object_position": null,
            "order": null,
            "overflow": null,
            "overflow_x": null,
            "overflow_y": null,
            "padding": null,
            "right": null,
            "top": null,
            "visibility": null,
            "width": null
          }
        },
        "4950aa2855884d76addff97ea8baf2a4": {
          "model_module": "@jupyter-widgets/controls",
          "model_name": "ProgressStyleModel",
          "model_module_version": "1.5.0",
          "state": {
            "_model_module": "@jupyter-widgets/controls",
            "_model_module_version": "1.5.0",
            "_model_name": "ProgressStyleModel",
            "_view_count": null,
            "_view_module": "@jupyter-widgets/base",
            "_view_module_version": "1.2.0",
            "_view_name": "StyleView",
            "bar_color": null,
            "description_width": ""
          }
        },
        "1c5d626de10d4acfa9b27b233fe0afb2": {
          "model_module": "@jupyter-widgets/base",
          "model_name": "LayoutModel",
          "model_module_version": "1.2.0",
          "state": {
            "_model_module": "@jupyter-widgets/base",
            "_model_module_version": "1.2.0",
            "_model_name": "LayoutModel",
            "_view_count": null,
            "_view_module": "@jupyter-widgets/base",
            "_view_module_version": "1.2.0",
            "_view_name": "LayoutView",
            "align_content": null,
            "align_items": null,
            "align_self": null,
            "border": null,
            "bottom": null,
            "display": null,
            "flex": null,
            "flex_flow": null,
            "grid_area": null,
            "grid_auto_columns": null,
            "grid_auto_flow": null,
            "grid_auto_rows": null,
            "grid_column": null,
            "grid_gap": null,
            "grid_row": null,
            "grid_template_areas": null,
            "grid_template_columns": null,
            "grid_template_rows": null,
            "height": null,
            "justify_content": null,
            "justify_items": null,
            "left": null,
            "margin": null,
            "max_height": null,
            "max_width": null,
            "min_height": null,
            "min_width": null,
            "object_fit": null,
            "object_position": null,
            "order": null,
            "overflow": null,
            "overflow_x": null,
            "overflow_y": null,
            "padding": null,
            "right": null,
            "top": null,
            "visibility": null,
            "width": null
          }
        },
        "7b1e4741f6644beea2f2dc5aeeb0720e": {
          "model_module": "@jupyter-widgets/controls",
          "model_name": "DescriptionStyleModel",
          "model_module_version": "1.5.0",
          "state": {
            "_model_module": "@jupyter-widgets/controls",
            "_model_module_version": "1.5.0",
            "_model_name": "DescriptionStyleModel",
            "_view_count": null,
            "_view_module": "@jupyter-widgets/base",
            "_view_module_version": "1.2.0",
            "_view_name": "StyleView",
            "description_width": ""
          }
        },
        "78bf560b208f44cdbf28547a6449ce9e": {
          "model_module": "@jupyter-widgets/controls",
          "model_name": "HBoxModel",
          "model_module_version": "1.5.0",
          "state": {
            "_dom_classes": [],
            "_model_module": "@jupyter-widgets/controls",
            "_model_module_version": "1.5.0",
            "_model_name": "HBoxModel",
            "_view_count": null,
            "_view_module": "@jupyter-widgets/controls",
            "_view_module_version": "1.5.0",
            "_view_name": "HBoxView",
            "box_style": "",
            "children": [
              "IPY_MODEL_bb9d0fd0b0114b0c8187ce60217d8b99",
              "IPY_MODEL_e570ae6303ef4a568f56767482659d63",
              "IPY_MODEL_cf06e6f4a5714d28aff825c194438faf"
            ],
            "layout": "IPY_MODEL_410b8b7a941a4e7a8ba84d1a476cf522"
          }
        },
        "bb9d0fd0b0114b0c8187ce60217d8b99": {
          "model_module": "@jupyter-widgets/controls",
          "model_name": "HTMLModel",
          "model_module_version": "1.5.0",
          "state": {
            "_dom_classes": [],
            "_model_module": "@jupyter-widgets/controls",
            "_model_module_version": "1.5.0",
            "_model_name": "HTMLModel",
            "_view_count": null,
            "_view_module": "@jupyter-widgets/controls",
            "_view_module_version": "1.5.0",
            "_view_name": "HTMLView",
            "description": "",
            "description_tooltip": null,
            "layout": "IPY_MODEL_992a85d2d9354a138aff39ed8353b7b0",
            "placeholder": "​",
            "style": "IPY_MODEL_3eeb7f5eaf374090b280a6775b286897",
            "value": "config.json: 100%"
          }
        },
        "e570ae6303ef4a568f56767482659d63": {
          "model_module": "@jupyter-widgets/controls",
          "model_name": "FloatProgressModel",
          "model_module_version": "1.5.0",
          "state": {
            "_dom_classes": [],
            "_model_module": "@jupyter-widgets/controls",
            "_model_module_version": "1.5.0",
            "_model_name": "FloatProgressModel",
            "_view_count": null,
            "_view_module": "@jupyter-widgets/controls",
            "_view_module_version": "1.5.0",
            "_view_name": "ProgressView",
            "bar_style": "success",
            "description": "",
            "description_tooltip": null,
            "layout": "IPY_MODEL_385ff8e114ad429cb1ec3a2f93c995c4",
            "max": 629,
            "min": 0,
            "orientation": "horizontal",
            "style": "IPY_MODEL_ab72f40a994c455cbf2420c1d0b88904",
            "value": 629
          }
        },
        "cf06e6f4a5714d28aff825c194438faf": {
          "model_module": "@jupyter-widgets/controls",
          "model_name": "HTMLModel",
          "model_module_version": "1.5.0",
          "state": {
            "_dom_classes": [],
            "_model_module": "@jupyter-widgets/controls",
            "_model_module_version": "1.5.0",
            "_model_name": "HTMLModel",
            "_view_count": null,
            "_view_module": "@jupyter-widgets/controls",
            "_view_module_version": "1.5.0",
            "_view_name": "HTMLView",
            "description": "",
            "description_tooltip": null,
            "layout": "IPY_MODEL_11bfb8c066ca4114b09b5e02c3e4e632",
            "placeholder": "​",
            "style": "IPY_MODEL_769b83c8262741a6812645d153e6f2ee",
            "value": " 629/629 [00:00&lt;00:00, 34.0kB/s]"
          }
        },
        "410b8b7a941a4e7a8ba84d1a476cf522": {
          "model_module": "@jupyter-widgets/base",
          "model_name": "LayoutModel",
          "model_module_version": "1.2.0",
          "state": {
            "_model_module": "@jupyter-widgets/base",
            "_model_module_version": "1.2.0",
            "_model_name": "LayoutModel",
            "_view_count": null,
            "_view_module": "@jupyter-widgets/base",
            "_view_module_version": "1.2.0",
            "_view_name": "LayoutView",
            "align_content": null,
            "align_items": null,
            "align_self": null,
            "border": null,
            "bottom": null,
            "display": null,
            "flex": null,
            "flex_flow": null,
            "grid_area": null,
            "grid_auto_columns": null,
            "grid_auto_flow": null,
            "grid_auto_rows": null,
            "grid_column": null,
            "grid_gap": null,
            "grid_row": null,
            "grid_template_areas": null,
            "grid_template_columns": null,
            "grid_template_rows": null,
            "height": null,
            "justify_content": null,
            "justify_items": null,
            "left": null,
            "margin": null,
            "max_height": null,
            "max_width": null,
            "min_height": null,
            "min_width": null,
            "object_fit": null,
            "object_position": null,
            "order": null,
            "overflow": null,
            "overflow_x": null,
            "overflow_y": null,
            "padding": null,
            "right": null,
            "top": null,
            "visibility": null,
            "width": null
          }
        },
        "992a85d2d9354a138aff39ed8353b7b0": {
          "model_module": "@jupyter-widgets/base",
          "model_name": "LayoutModel",
          "model_module_version": "1.2.0",
          "state": {
            "_model_module": "@jupyter-widgets/base",
            "_model_module_version": "1.2.0",
            "_model_name": "LayoutModel",
            "_view_count": null,
            "_view_module": "@jupyter-widgets/base",
            "_view_module_version": "1.2.0",
            "_view_name": "LayoutView",
            "align_content": null,
            "align_items": null,
            "align_self": null,
            "border": null,
            "bottom": null,
            "display": null,
            "flex": null,
            "flex_flow": null,
            "grid_area": null,
            "grid_auto_columns": null,
            "grid_auto_flow": null,
            "grid_auto_rows": null,
            "grid_column": null,
            "grid_gap": null,
            "grid_row": null,
            "grid_template_areas": null,
            "grid_template_columns": null,
            "grid_template_rows": null,
            "height": null,
            "justify_content": null,
            "justify_items": null,
            "left": null,
            "margin": null,
            "max_height": null,
            "max_width": null,
            "min_height": null,
            "min_width": null,
            "object_fit": null,
            "object_position": null,
            "order": null,
            "overflow": null,
            "overflow_x": null,
            "overflow_y": null,
            "padding": null,
            "right": null,
            "top": null,
            "visibility": null,
            "width": null
          }
        },
        "3eeb7f5eaf374090b280a6775b286897": {
          "model_module": "@jupyter-widgets/controls",
          "model_name": "DescriptionStyleModel",
          "model_module_version": "1.5.0",
          "state": {
            "_model_module": "@jupyter-widgets/controls",
            "_model_module_version": "1.5.0",
            "_model_name": "DescriptionStyleModel",
            "_view_count": null,
            "_view_module": "@jupyter-widgets/base",
            "_view_module_version": "1.2.0",
            "_view_name": "StyleView",
            "description_width": ""
          }
        },
        "385ff8e114ad429cb1ec3a2f93c995c4": {
          "model_module": "@jupyter-widgets/base",
          "model_name": "LayoutModel",
          "model_module_version": "1.2.0",
          "state": {
            "_model_module": "@jupyter-widgets/base",
            "_model_module_version": "1.2.0",
            "_model_name": "LayoutModel",
            "_view_count": null,
            "_view_module": "@jupyter-widgets/base",
            "_view_module_version": "1.2.0",
            "_view_name": "LayoutView",
            "align_content": null,
            "align_items": null,
            "align_self": null,
            "border": null,
            "bottom": null,
            "display": null,
            "flex": null,
            "flex_flow": null,
            "grid_area": null,
            "grid_auto_columns": null,
            "grid_auto_flow": null,
            "grid_auto_rows": null,
            "grid_column": null,
            "grid_gap": null,
            "grid_row": null,
            "grid_template_areas": null,
            "grid_template_columns": null,
            "grid_template_rows": null,
            "height": null,
            "justify_content": null,
            "justify_items": null,
            "left": null,
            "margin": null,
            "max_height": null,
            "max_width": null,
            "min_height": null,
            "min_width": null,
            "object_fit": null,
            "object_position": null,
            "order": null,
            "overflow": null,
            "overflow_x": null,
            "overflow_y": null,
            "padding": null,
            "right": null,
            "top": null,
            "visibility": null,
            "width": null
          }
        },
        "ab72f40a994c455cbf2420c1d0b88904": {
          "model_module": "@jupyter-widgets/controls",
          "model_name": "ProgressStyleModel",
          "model_module_version": "1.5.0",
          "state": {
            "_model_module": "@jupyter-widgets/controls",
            "_model_module_version": "1.5.0",
            "_model_name": "ProgressStyleModel",
            "_view_count": null,
            "_view_module": "@jupyter-widgets/base",
            "_view_module_version": "1.2.0",
            "_view_name": "StyleView",
            "bar_color": null,
            "description_width": ""
          }
        },
        "11bfb8c066ca4114b09b5e02c3e4e632": {
          "model_module": "@jupyter-widgets/base",
          "model_name": "LayoutModel",
          "model_module_version": "1.2.0",
          "state": {
            "_model_module": "@jupyter-widgets/base",
            "_model_module_version": "1.2.0",
            "_model_name": "LayoutModel",
            "_view_count": null,
            "_view_module": "@jupyter-widgets/base",
            "_view_module_version": "1.2.0",
            "_view_name": "LayoutView",
            "align_content": null,
            "align_items": null,
            "align_self": null,
            "border": null,
            "bottom": null,
            "display": null,
            "flex": null,
            "flex_flow": null,
            "grid_area": null,
            "grid_auto_columns": null,
            "grid_auto_flow": null,
            "grid_auto_rows": null,
            "grid_column": null,
            "grid_gap": null,
            "grid_row": null,
            "grid_template_areas": null,
            "grid_template_columns": null,
            "grid_template_rows": null,
            "height": null,
            "justify_content": null,
            "justify_items": null,
            "left": null,
            "margin": null,
            "max_height": null,
            "max_width": null,
            "min_height": null,
            "min_width": null,
            "object_fit": null,
            "object_position": null,
            "order": null,
            "overflow": null,
            "overflow_x": null,
            "overflow_y": null,
            "padding": null,
            "right": null,
            "top": null,
            "visibility": null,
            "width": null
          }
        },
        "769b83c8262741a6812645d153e6f2ee": {
          "model_module": "@jupyter-widgets/controls",
          "model_name": "DescriptionStyleModel",
          "model_module_version": "1.5.0",
          "state": {
            "_model_module": "@jupyter-widgets/controls",
            "_model_module_version": "1.5.0",
            "_model_name": "DescriptionStyleModel",
            "_view_count": null,
            "_view_module": "@jupyter-widgets/base",
            "_view_module_version": "1.2.0",
            "_view_name": "StyleView",
            "description_width": ""
          }
        },
        "2460159da4564d69b550e416de5826a6": {
          "model_module": "@jupyter-widgets/controls",
          "model_name": "HBoxModel",
          "model_module_version": "1.5.0",
          "state": {
            "_dom_classes": [],
            "_model_module": "@jupyter-widgets/controls",
            "_model_module_version": "1.5.0",
            "_model_name": "HBoxModel",
            "_view_count": null,
            "_view_module": "@jupyter-widgets/controls",
            "_view_module_version": "1.5.0",
            "_view_name": "HBoxView",
            "box_style": "",
            "children": [
              "IPY_MODEL_306857c6259e4f2ab0fee34b2b31dd9d",
              "IPY_MODEL_e888e2940ca24fa6b4d4acffd0706062",
              "IPY_MODEL_5b0130046bc84386b75d6261cd76384a"
            ],
            "layout": "IPY_MODEL_36fb75989f1c4f728a2dbbe9bf24af2e"
          }
        },
        "306857c6259e4f2ab0fee34b2b31dd9d": {
          "model_module": "@jupyter-widgets/controls",
          "model_name": "HTMLModel",
          "model_module_version": "1.5.0",
          "state": {
            "_dom_classes": [],
            "_model_module": "@jupyter-widgets/controls",
            "_model_module_version": "1.5.0",
            "_model_name": "HTMLModel",
            "_view_count": null,
            "_view_module": "@jupyter-widgets/controls",
            "_view_module_version": "1.5.0",
            "_view_name": "HTMLView",
            "description": "",
            "description_tooltip": null,
            "layout": "IPY_MODEL_ea922ce54f2541b5ba1287b4898deaa9",
            "placeholder": "​",
            "style": "IPY_MODEL_ca2f00ab9c174b55a8777f3743528ae0",
            "value": "vocab.txt: 100%"
          }
        },
        "e888e2940ca24fa6b4d4acffd0706062": {
          "model_module": "@jupyter-widgets/controls",
          "model_name": "FloatProgressModel",
          "model_module_version": "1.5.0",
          "state": {
            "_dom_classes": [],
            "_model_module": "@jupyter-widgets/controls",
            "_model_module_version": "1.5.0",
            "_model_name": "FloatProgressModel",
            "_view_count": null,
            "_view_module": "@jupyter-widgets/controls",
            "_view_module_version": "1.5.0",
            "_view_name": "ProgressView",
            "bar_style": "success",
            "description": "",
            "description_tooltip": null,
            "layout": "IPY_MODEL_795679a9f140495ebb0c1186da32e728",
            "max": 231508,
            "min": 0,
            "orientation": "horizontal",
            "style": "IPY_MODEL_f33cb86cfd7245efb3e348a0cc82509c",
            "value": 231508
          }
        },
        "5b0130046bc84386b75d6261cd76384a": {
          "model_module": "@jupyter-widgets/controls",
          "model_name": "HTMLModel",
          "model_module_version": "1.5.0",
          "state": {
            "_dom_classes": [],
            "_model_module": "@jupyter-widgets/controls",
            "_model_module_version": "1.5.0",
            "_model_name": "HTMLModel",
            "_view_count": null,
            "_view_module": "@jupyter-widgets/controls",
            "_view_module_version": "1.5.0",
            "_view_name": "HTMLView",
            "description": "",
            "description_tooltip": null,
            "layout": "IPY_MODEL_1809c6da77084fa4b5f90259b0fa4bcb",
            "placeholder": "​",
            "style": "IPY_MODEL_dbecc83d6d9c417fb9ae49cad158c2f8",
            "value": " 232k/232k [00:00&lt;00:00, 4.98MB/s]"
          }
        },
        "36fb75989f1c4f728a2dbbe9bf24af2e": {
          "model_module": "@jupyter-widgets/base",
          "model_name": "LayoutModel",
          "model_module_version": "1.2.0",
          "state": {
            "_model_module": "@jupyter-widgets/base",
            "_model_module_version": "1.2.0",
            "_model_name": "LayoutModel",
            "_view_count": null,
            "_view_module": "@jupyter-widgets/base",
            "_view_module_version": "1.2.0",
            "_view_name": "LayoutView",
            "align_content": null,
            "align_items": null,
            "align_self": null,
            "border": null,
            "bottom": null,
            "display": null,
            "flex": null,
            "flex_flow": null,
            "grid_area": null,
            "grid_auto_columns": null,
            "grid_auto_flow": null,
            "grid_auto_rows": null,
            "grid_column": null,
            "grid_gap": null,
            "grid_row": null,
            "grid_template_areas": null,
            "grid_template_columns": null,
            "grid_template_rows": null,
            "height": null,
            "justify_content": null,
            "justify_items": null,
            "left": null,
            "margin": null,
            "max_height": null,
            "max_width": null,
            "min_height": null,
            "min_width": null,
            "object_fit": null,
            "object_position": null,
            "order": null,
            "overflow": null,
            "overflow_x": null,
            "overflow_y": null,
            "padding": null,
            "right": null,
            "top": null,
            "visibility": null,
            "width": null
          }
        },
        "ea922ce54f2541b5ba1287b4898deaa9": {
          "model_module": "@jupyter-widgets/base",
          "model_name": "LayoutModel",
          "model_module_version": "1.2.0",
          "state": {
            "_model_module": "@jupyter-widgets/base",
            "_model_module_version": "1.2.0",
            "_model_name": "LayoutModel",
            "_view_count": null,
            "_view_module": "@jupyter-widgets/base",
            "_view_module_version": "1.2.0",
            "_view_name": "LayoutView",
            "align_content": null,
            "align_items": null,
            "align_self": null,
            "border": null,
            "bottom": null,
            "display": null,
            "flex": null,
            "flex_flow": null,
            "grid_area": null,
            "grid_auto_columns": null,
            "grid_auto_flow": null,
            "grid_auto_rows": null,
            "grid_column": null,
            "grid_gap": null,
            "grid_row": null,
            "grid_template_areas": null,
            "grid_template_columns": null,
            "grid_template_rows": null,
            "height": null,
            "justify_content": null,
            "justify_items": null,
            "left": null,
            "margin": null,
            "max_height": null,
            "max_width": null,
            "min_height": null,
            "min_width": null,
            "object_fit": null,
            "object_position": null,
            "order": null,
            "overflow": null,
            "overflow_x": null,
            "overflow_y": null,
            "padding": null,
            "right": null,
            "top": null,
            "visibility": null,
            "width": null
          }
        },
        "ca2f00ab9c174b55a8777f3743528ae0": {
          "model_module": "@jupyter-widgets/controls",
          "model_name": "DescriptionStyleModel",
          "model_module_version": "1.5.0",
          "state": {
            "_model_module": "@jupyter-widgets/controls",
            "_model_module_version": "1.5.0",
            "_model_name": "DescriptionStyleModel",
            "_view_count": null,
            "_view_module": "@jupyter-widgets/base",
            "_view_module_version": "1.2.0",
            "_view_name": "StyleView",
            "description_width": ""
          }
        },
        "795679a9f140495ebb0c1186da32e728": {
          "model_module": "@jupyter-widgets/base",
          "model_name": "LayoutModel",
          "model_module_version": "1.2.0",
          "state": {
            "_model_module": "@jupyter-widgets/base",
            "_model_module_version": "1.2.0",
            "_model_name": "LayoutModel",
            "_view_count": null,
            "_view_module": "@jupyter-widgets/base",
            "_view_module_version": "1.2.0",
            "_view_name": "LayoutView",
            "align_content": null,
            "align_items": null,
            "align_self": null,
            "border": null,
            "bottom": null,
            "display": null,
            "flex": null,
            "flex_flow": null,
            "grid_area": null,
            "grid_auto_columns": null,
            "grid_auto_flow": null,
            "grid_auto_rows": null,
            "grid_column": null,
            "grid_gap": null,
            "grid_row": null,
            "grid_template_areas": null,
            "grid_template_columns": null,
            "grid_template_rows": null,
            "height": null,
            "justify_content": null,
            "justify_items": null,
            "left": null,
            "margin": null,
            "max_height": null,
            "max_width": null,
            "min_height": null,
            "min_width": null,
            "object_fit": null,
            "object_position": null,
            "order": null,
            "overflow": null,
            "overflow_x": null,
            "overflow_y": null,
            "padding": null,
            "right": null,
            "top": null,
            "visibility": null,
            "width": null
          }
        },
        "f33cb86cfd7245efb3e348a0cc82509c": {
          "model_module": "@jupyter-widgets/controls",
          "model_name": "ProgressStyleModel",
          "model_module_version": "1.5.0",
          "state": {
            "_model_module": "@jupyter-widgets/controls",
            "_model_module_version": "1.5.0",
            "_model_name": "ProgressStyleModel",
            "_view_count": null,
            "_view_module": "@jupyter-widgets/base",
            "_view_module_version": "1.2.0",
            "_view_name": "StyleView",
            "bar_color": null,
            "description_width": ""
          }
        },
        "1809c6da77084fa4b5f90259b0fa4bcb": {
          "model_module": "@jupyter-widgets/base",
          "model_name": "LayoutModel",
          "model_module_version": "1.2.0",
          "state": {
            "_model_module": "@jupyter-widgets/base",
            "_model_module_version": "1.2.0",
            "_model_name": "LayoutModel",
            "_view_count": null,
            "_view_module": "@jupyter-widgets/base",
            "_view_module_version": "1.2.0",
            "_view_name": "LayoutView",
            "align_content": null,
            "align_items": null,
            "align_self": null,
            "border": null,
            "bottom": null,
            "display": null,
            "flex": null,
            "flex_flow": null,
            "grid_area": null,
            "grid_auto_columns": null,
            "grid_auto_flow": null,
            "grid_auto_rows": null,
            "grid_column": null,
            "grid_gap": null,
            "grid_row": null,
            "grid_template_areas": null,
            "grid_template_columns": null,
            "grid_template_rows": null,
            "height": null,
            "justify_content": null,
            "justify_items": null,
            "left": null,
            "margin": null,
            "max_height": null,
            "max_width": null,
            "min_height": null,
            "min_width": null,
            "object_fit": null,
            "object_position": null,
            "order": null,
            "overflow": null,
            "overflow_x": null,
            "overflow_y": null,
            "padding": null,
            "right": null,
            "top": null,
            "visibility": null,
            "width": null
          }
        },
        "dbecc83d6d9c417fb9ae49cad158c2f8": {
          "model_module": "@jupyter-widgets/controls",
          "model_name": "DescriptionStyleModel",
          "model_module_version": "1.5.0",
          "state": {
            "_model_module": "@jupyter-widgets/controls",
            "_model_module_version": "1.5.0",
            "_model_name": "DescriptionStyleModel",
            "_view_count": null,
            "_view_module": "@jupyter-widgets/base",
            "_view_module_version": "1.2.0",
            "_view_name": "StyleView",
            "description_width": ""
          }
        },
        "8d3455ffdde64a5190041e42e0f2eb3d": {
          "model_module": "@jupyter-widgets/controls",
          "model_name": "HBoxModel",
          "model_module_version": "1.5.0",
          "state": {
            "_dom_classes": [],
            "_model_module": "@jupyter-widgets/controls",
            "_model_module_version": "1.5.0",
            "_model_name": "HBoxModel",
            "_view_count": null,
            "_view_module": "@jupyter-widgets/controls",
            "_view_module_version": "1.5.0",
            "_view_name": "HBoxView",
            "box_style": "",
            "children": [
              "IPY_MODEL_113b390730394d81894d6ec40d1ac7bf",
              "IPY_MODEL_8a3e9ae035f24e4d92d44b783083aa1a",
              "IPY_MODEL_c945ba17bd194d51b6b0b54bfd8a13b4"
            ],
            "layout": "IPY_MODEL_c9eb56247b2e4b23a898354935462984"
          }
        },
        "113b390730394d81894d6ec40d1ac7bf": {
          "model_module": "@jupyter-widgets/controls",
          "model_name": "HTMLModel",
          "model_module_version": "1.5.0",
          "state": {
            "_dom_classes": [],
            "_model_module": "@jupyter-widgets/controls",
            "_model_module_version": "1.5.0",
            "_model_name": "HTMLModel",
            "_view_count": null,
            "_view_module": "@jupyter-widgets/controls",
            "_view_module_version": "1.5.0",
            "_view_name": "HTMLView",
            "description": "",
            "description_tooltip": null,
            "layout": "IPY_MODEL_9103b99c884f4bfc8aa89be65472c17d",
            "placeholder": "​",
            "style": "IPY_MODEL_0328c3a215b3445f818877ed343284eb",
            "value": "model.safetensors: 100%"
          }
        },
        "8a3e9ae035f24e4d92d44b783083aa1a": {
          "model_module": "@jupyter-widgets/controls",
          "model_name": "FloatProgressModel",
          "model_module_version": "1.5.0",
          "state": {
            "_dom_classes": [],
            "_model_module": "@jupyter-widgets/controls",
            "_model_module_version": "1.5.0",
            "_model_name": "FloatProgressModel",
            "_view_count": null,
            "_view_module": "@jupyter-widgets/controls",
            "_view_module_version": "1.5.0",
            "_view_name": "ProgressView",
            "bar_style": "success",
            "description": "",
            "description_tooltip": null,
            "layout": "IPY_MODEL_fcc8f3aa50954a91a2664cb08530b2be",
            "max": 267832558,
            "min": 0,
            "orientation": "horizontal",
            "style": "IPY_MODEL_d5543408ea1a431eabf81ff8ff741660",
            "value": 267832558
          }
        },
        "c945ba17bd194d51b6b0b54bfd8a13b4": {
          "model_module": "@jupyter-widgets/controls",
          "model_name": "HTMLModel",
          "model_module_version": "1.5.0",
          "state": {
            "_dom_classes": [],
            "_model_module": "@jupyter-widgets/controls",
            "_model_module_version": "1.5.0",
            "_model_name": "HTMLModel",
            "_view_count": null,
            "_view_module": "@jupyter-widgets/controls",
            "_view_module_version": "1.5.0",
            "_view_name": "HTMLView",
            "description": "",
            "description_tooltip": null,
            "layout": "IPY_MODEL_167230f6b725445b80475d67ba9de22e",
            "placeholder": "​",
            "style": "IPY_MODEL_eaba1176505c414fb2df23bc0d72cd58",
            "value": " 268M/268M [00:01&lt;00:00, 151MB/s]"
          }
        },
        "c9eb56247b2e4b23a898354935462984": {
          "model_module": "@jupyter-widgets/base",
          "model_name": "LayoutModel",
          "model_module_version": "1.2.0",
          "state": {
            "_model_module": "@jupyter-widgets/base",
            "_model_module_version": "1.2.0",
            "_model_name": "LayoutModel",
            "_view_count": null,
            "_view_module": "@jupyter-widgets/base",
            "_view_module_version": "1.2.0",
            "_view_name": "LayoutView",
            "align_content": null,
            "align_items": null,
            "align_self": null,
            "border": null,
            "bottom": null,
            "display": null,
            "flex": null,
            "flex_flow": null,
            "grid_area": null,
            "grid_auto_columns": null,
            "grid_auto_flow": null,
            "grid_auto_rows": null,
            "grid_column": null,
            "grid_gap": null,
            "grid_row": null,
            "grid_template_areas": null,
            "grid_template_columns": null,
            "grid_template_rows": null,
            "height": null,
            "justify_content": null,
            "justify_items": null,
            "left": null,
            "margin": null,
            "max_height": null,
            "max_width": null,
            "min_height": null,
            "min_width": null,
            "object_fit": null,
            "object_position": null,
            "order": null,
            "overflow": null,
            "overflow_x": null,
            "overflow_y": null,
            "padding": null,
            "right": null,
            "top": null,
            "visibility": null,
            "width": null
          }
        },
        "9103b99c884f4bfc8aa89be65472c17d": {
          "model_module": "@jupyter-widgets/base",
          "model_name": "LayoutModel",
          "model_module_version": "1.2.0",
          "state": {
            "_model_module": "@jupyter-widgets/base",
            "_model_module_version": "1.2.0",
            "_model_name": "LayoutModel",
            "_view_count": null,
            "_view_module": "@jupyter-widgets/base",
            "_view_module_version": "1.2.0",
            "_view_name": "LayoutView",
            "align_content": null,
            "align_items": null,
            "align_self": null,
            "border": null,
            "bottom": null,
            "display": null,
            "flex": null,
            "flex_flow": null,
            "grid_area": null,
            "grid_auto_columns": null,
            "grid_auto_flow": null,
            "grid_auto_rows": null,
            "grid_column": null,
            "grid_gap": null,
            "grid_row": null,
            "grid_template_areas": null,
            "grid_template_columns": null,
            "grid_template_rows": null,
            "height": null,
            "justify_content": null,
            "justify_items": null,
            "left": null,
            "margin": null,
            "max_height": null,
            "max_width": null,
            "min_height": null,
            "min_width": null,
            "object_fit": null,
            "object_position": null,
            "order": null,
            "overflow": null,
            "overflow_x": null,
            "overflow_y": null,
            "padding": null,
            "right": null,
            "top": null,
            "visibility": null,
            "width": null
          }
        },
        "0328c3a215b3445f818877ed343284eb": {
          "model_module": "@jupyter-widgets/controls",
          "model_name": "DescriptionStyleModel",
          "model_module_version": "1.5.0",
          "state": {
            "_model_module": "@jupyter-widgets/controls",
            "_model_module_version": "1.5.0",
            "_model_name": "DescriptionStyleModel",
            "_view_count": null,
            "_view_module": "@jupyter-widgets/base",
            "_view_module_version": "1.2.0",
            "_view_name": "StyleView",
            "description_width": ""
          }
        },
        "fcc8f3aa50954a91a2664cb08530b2be": {
          "model_module": "@jupyter-widgets/base",
          "model_name": "LayoutModel",
          "model_module_version": "1.2.0",
          "state": {
            "_model_module": "@jupyter-widgets/base",
            "_model_module_version": "1.2.0",
            "_model_name": "LayoutModel",
            "_view_count": null,
            "_view_module": "@jupyter-widgets/base",
            "_view_module_version": "1.2.0",
            "_view_name": "LayoutView",
            "align_content": null,
            "align_items": null,
            "align_self": null,
            "border": null,
            "bottom": null,
            "display": null,
            "flex": null,
            "flex_flow": null,
            "grid_area": null,
            "grid_auto_columns": null,
            "grid_auto_flow": null,
            "grid_auto_rows": null,
            "grid_column": null,
            "grid_gap": null,
            "grid_row": null,
            "grid_template_areas": null,
            "grid_template_columns": null,
            "grid_template_rows": null,
            "height": null,
            "justify_content": null,
            "justify_items": null,
            "left": null,
            "margin": null,
            "max_height": null,
            "max_width": null,
            "min_height": null,
            "min_width": null,
            "object_fit": null,
            "object_position": null,
            "order": null,
            "overflow": null,
            "overflow_x": null,
            "overflow_y": null,
            "padding": null,
            "right": null,
            "top": null,
            "visibility": null,
            "width": null
          }
        },
        "d5543408ea1a431eabf81ff8ff741660": {
          "model_module": "@jupyter-widgets/controls",
          "model_name": "ProgressStyleModel",
          "model_module_version": "1.5.0",
          "state": {
            "_model_module": "@jupyter-widgets/controls",
            "_model_module_version": "1.5.0",
            "_model_name": "ProgressStyleModel",
            "_view_count": null,
            "_view_module": "@jupyter-widgets/base",
            "_view_module_version": "1.2.0",
            "_view_name": "StyleView",
            "bar_color": null,
            "description_width": ""
          }
        },
        "167230f6b725445b80475d67ba9de22e": {
          "model_module": "@jupyter-widgets/base",
          "model_name": "LayoutModel",
          "model_module_version": "1.2.0",
          "state": {
            "_model_module": "@jupyter-widgets/base",
            "_model_module_version": "1.2.0",
            "_model_name": "LayoutModel",
            "_view_count": null,
            "_view_module": "@jupyter-widgets/base",
            "_view_module_version": "1.2.0",
            "_view_name": "LayoutView",
            "align_content": null,
            "align_items": null,
            "align_self": null,
            "border": null,
            "bottom": null,
            "display": null,
            "flex": null,
            "flex_flow": null,
            "grid_area": null,
            "grid_auto_columns": null,
            "grid_auto_flow": null,
            "grid_auto_rows": null,
            "grid_column": null,
            "grid_gap": null,
            "grid_row": null,
            "grid_template_areas": null,
            "grid_template_columns": null,
            "grid_template_rows": null,
            "height": null,
            "justify_content": null,
            "justify_items": null,
            "left": null,
            "margin": null,
            "max_height": null,
            "max_width": null,
            "min_height": null,
            "min_width": null,
            "object_fit": null,
            "object_position": null,
            "order": null,
            "overflow": null,
            "overflow_x": null,
            "overflow_y": null,
            "padding": null,
            "right": null,
            "top": null,
            "visibility": null,
            "width": null
          }
        },
        "eaba1176505c414fb2df23bc0d72cd58": {
          "model_module": "@jupyter-widgets/controls",
          "model_name": "DescriptionStyleModel",
          "model_module_version": "1.5.0",
          "state": {
            "_model_module": "@jupyter-widgets/controls",
            "_model_module_version": "1.5.0",
            "_model_name": "DescriptionStyleModel",
            "_view_count": null,
            "_view_module": "@jupyter-widgets/base",
            "_view_module_version": "1.2.0",
            "_view_name": "StyleView",
            "description_width": ""
          }
        }
      }
    }
  },
  "cells": [
    {
      "cell_type": "markdown",
      "source": [
        "# Task 3: Predictive Modelling for Sentiment Classification\n",
        "\n",
        "Build a machine learning model to predict sentiment (positive or negative) based on review text."
      ],
      "metadata": {
        "id": "io8XcOSNeQah"
      }
    },
    {
      "cell_type": "markdown",
      "source": [
        "# Sentiment Analysis with Fine-tuned DistilBERT\n",
        "\n",
        "Overview:\n",
        "------------\n",
        "This notebook demonstrates the process of building a sentiment analysis model using a fine-tuned DistilBERT model. The goal is to predict whether a given review is positive or negative based on the review text. The model leverages the Hugging Face Transformers library for easy integration of pre-trained models.\n",
        "\n",
        "Workflow:\n",
        "------------\n",
        "1. **Data Loading and Preprocessing:**\n",
        "    - The sentiment dataset is loaded, containing class labels, review titles, and review text.\n",
        "    - The data is preprocessed by combining review titles and text, mapping class labels to binary values, and dropping unnecessary columns.\n",
        "\n",
        "2. **Tokenization and Prediction with Pre-trained DistilBERT:**\n",
        "    - The combined review text is tokenized using a pre-trained DistilBERT tokenizer.\n",
        "    - The pre-trained DistilBERT model is used to predict sentiment labels for the reviews.\n",
        "    - Model weights and tokenizer are saved for later use.\n",
        "\n",
        "3. **Fine-tuning DistilBERT for Sentiment Analysis:**\n",
        "    - The dataset is split into training, validation, and test sets.\n",
        "    - A custom PyTorch Dataset class is created for efficient handling of the tokenized data.\n",
        "    - The pre-trained DistilBERT model is fine-tuned on the training set.\n",
        "    - Evaluation is performed on the validation and test sets.\n",
        "\n",
        "4. **Results and Model Saving:**\n",
        "    - Fine-tuned model results are evaluated on the test set.\n",
        "    - Model weights and tokenizer for the fine-tuned model are saved.\n",
        "\n",
        "5. **Load Fine-tuned Model:**\n",
        "    - The fine-tuned model and tokenizer can be loaded for further analysis or deployment.\n",
        "\n",
        "------------\n"
      ],
      "metadata": {
        "id": "rW0ps8XEWa_a"
      }
    },
    {
      "cell_type": "code",
      "source": [
        "! pip install -U accelerate -q\n",
        "! pip install -U transformers -q"
      ],
      "metadata": {
        "id": "gIq0HkKQp0E5"
      },
      "execution_count": null,
      "outputs": []
    },
    {
      "cell_type": "code",
      "execution_count": null,
      "metadata": {
        "id": "EXTJB0FIF_Gw"
      },
      "outputs": [],
      "source": [
        "import numpy as np\n",
        "import pandas as pd\n",
        "\n",
        "import warnings\n",
        "warnings.filterwarnings('ignore')\n",
        "\n",
        "import torch\n",
        "import torch.nn.functional as F\n",
        "from torch.utils.data import Dataset\n",
        "from sklearn.model_selection import train_test_split\n",
        "from transformers import pipeline, AutoTokenizer, AutoModelForSequenceClassification, DistilBertTokenizerFast, DistilBertForSequenceClassification, Trainer, TrainingArguments"
      ]
    },
    {
      "cell_type": "markdown",
      "source": [
        "Because of how large the dataset is, I have reduced the number of rows to save computational time."
      ],
      "metadata": {
        "id": "nskY9XcDSLVQ"
      }
    },
    {
      "cell_type": "code",
      "source": [
        "# Load Data\n",
        "col_names = ['class', 'review_title', 'review_text']\n",
        "train = pd.read_csv('/content/drive/MyDrive/Colab Notebooks/Prembly/Datasets/train.csv', names=col_names)\n",
        "test = pd.read_csv('/content/drive/MyDrive/Colab Notebooks/Prembly/Datasets/test.csv', names=col_names)\n",
        "\n",
        "\n",
        "train_1 = train.iloc[:100]\n",
        "test_1 = test.iloc[:100]\n",
        "\n",
        "# combine 'review_title' and 'review_text'\n",
        "train_1['full_review'] = train_1['review_title'] +  ' ' + train_1['review_text']\n",
        "test_1['full_review'] = test_1['review_title'] +  ' ' + test_1['review_text']\n",
        "\n",
        "\n",
        "# Rename class labels: positive 2 to 1, negative 1 to 0\n",
        "train_1['class'] = train_1['class'].map({2: 1, 1: 0})\n",
        "test_1['class'] = test_1['class'].map({2: 1, 1: 0})\n",
        "\n",
        "\n",
        "# Drop columns\n",
        "del train_1['review_title'], train_1['review_text']\n",
        "del test_1['review_title'], test_1['review_text']\n",
        "\n",
        "\n",
        "train_1.dropna(inplace=True)\n",
        "test_1.dropna(inplace=True)\n",
        "\n",
        "train_1.shape, test_1.shape"
      ],
      "metadata": {
        "id": "4T3uulKwIf2L",
        "colab": {
          "base_uri": "https://localhost:8080/"
        },
        "outputId": "33b1e38c-1637-4722-e306-06ac0dc084b3"
      },
      "execution_count": null,
      "outputs": [
        {
          "output_type": "execute_result",
          "data": {
            "text/plain": [
              "((100, 2), (100, 2))"
            ]
          },
          "metadata": {},
          "execution_count": 3
        }
      ]
    },
    {
      "cell_type": "markdown",
      "source": [
        "## Tokenizer and Model setup"
      ],
      "metadata": {
        "id": "QtFSS1r0Sbrf"
      }
    },
    {
      "cell_type": "code",
      "source": [
        "tokenizer_name = 'distilbert-base-uncased-finetuned-sst-2-english'\n",
        "model_name = 'distilbert-base-uncased-finetuned-sst-2-english'\n",
        "\n",
        "tokenizer = AutoTokenizer.from_pretrained(tokenizer_name)\n",
        "model = AutoModelForSequenceClassification.from_pretrained(model_name)\n",
        "device = torch.device('cuda' if torch.cuda.is_available() else 'cpu')\n",
        "device"
      ],
      "metadata": {
        "id": "RAY-SpKeGp1w",
        "colab": {
          "base_uri": "https://localhost:8080/",
          "height": 162,
          "referenced_widgets": [
            "ef81e57521d84806be84307976f75296",
            "82a21a95088e4185a03dc2b4a30014e8",
            "8e7e8ff8e57f419a939236da2705143e",
            "692f61c6e1844f9a954e13bf2d37a55b",
            "f651d275eef641999df9cae2ee7bbc8e",
            "c929d81781bf49ea8d64d13c32d57a21",
            "88618fa70428486fbb316393af44cc95",
            "861ed6776002442fb7c060f51a387c57",
            "4950aa2855884d76addff97ea8baf2a4",
            "1c5d626de10d4acfa9b27b233fe0afb2",
            "7b1e4741f6644beea2f2dc5aeeb0720e",
            "78bf560b208f44cdbf28547a6449ce9e",
            "bb9d0fd0b0114b0c8187ce60217d8b99",
            "e570ae6303ef4a568f56767482659d63",
            "cf06e6f4a5714d28aff825c194438faf",
            "410b8b7a941a4e7a8ba84d1a476cf522",
            "992a85d2d9354a138aff39ed8353b7b0",
            "3eeb7f5eaf374090b280a6775b286897",
            "385ff8e114ad429cb1ec3a2f93c995c4",
            "ab72f40a994c455cbf2420c1d0b88904",
            "11bfb8c066ca4114b09b5e02c3e4e632",
            "769b83c8262741a6812645d153e6f2ee",
            "2460159da4564d69b550e416de5826a6",
            "306857c6259e4f2ab0fee34b2b31dd9d",
            "e888e2940ca24fa6b4d4acffd0706062",
            "5b0130046bc84386b75d6261cd76384a",
            "36fb75989f1c4f728a2dbbe9bf24af2e",
            "ea922ce54f2541b5ba1287b4898deaa9",
            "ca2f00ab9c174b55a8777f3743528ae0",
            "795679a9f140495ebb0c1186da32e728",
            "f33cb86cfd7245efb3e348a0cc82509c",
            "1809c6da77084fa4b5f90259b0fa4bcb",
            "dbecc83d6d9c417fb9ae49cad158c2f8",
            "8d3455ffdde64a5190041e42e0f2eb3d",
            "113b390730394d81894d6ec40d1ac7bf",
            "8a3e9ae035f24e4d92d44b783083aa1a",
            "c945ba17bd194d51b6b0b54bfd8a13b4",
            "c9eb56247b2e4b23a898354935462984",
            "9103b99c884f4bfc8aa89be65472c17d",
            "0328c3a215b3445f818877ed343284eb",
            "fcc8f3aa50954a91a2664cb08530b2be",
            "d5543408ea1a431eabf81ff8ff741660",
            "167230f6b725445b80475d67ba9de22e",
            "eaba1176505c414fb2df23bc0d72cd58"
          ]
        },
        "outputId": "51c3c02f-3372-42f9-a7a4-2c25b133cb1d"
      },
      "execution_count": null,
      "outputs": [
        {
          "output_type": "display_data",
          "data": {
            "text/plain": [
              "tokenizer_config.json:   0%|          | 0.00/48.0 [00:00<?, ?B/s]"
            ],
            "application/vnd.jupyter.widget-view+json": {
              "version_major": 2,
              "version_minor": 0,
              "model_id": "ef81e57521d84806be84307976f75296"
            }
          },
          "metadata": {}
        },
        {
          "output_type": "display_data",
          "data": {
            "text/plain": [
              "config.json:   0%|          | 0.00/629 [00:00<?, ?B/s]"
            ],
            "application/vnd.jupyter.widget-view+json": {
              "version_major": 2,
              "version_minor": 0,
              "model_id": "78bf560b208f44cdbf28547a6449ce9e"
            }
          },
          "metadata": {}
        },
        {
          "output_type": "display_data",
          "data": {
            "text/plain": [
              "vocab.txt:   0%|          | 0.00/232k [00:00<?, ?B/s]"
            ],
            "application/vnd.jupyter.widget-view+json": {
              "version_major": 2,
              "version_minor": 0,
              "model_id": "2460159da4564d69b550e416de5826a6"
            }
          },
          "metadata": {}
        },
        {
          "output_type": "display_data",
          "data": {
            "text/plain": [
              "model.safetensors:   0%|          | 0.00/268M [00:00<?, ?B/s]"
            ],
            "application/vnd.jupyter.widget-view+json": {
              "version_major": 2,
              "version_minor": 0,
              "model_id": "8d3455ffdde64a5190041e42e0f2eb3d"
            }
          },
          "metadata": {}
        },
        {
          "output_type": "execute_result",
          "data": {
            "text/plain": [
              "device(type='cuda')"
            ]
          },
          "metadata": {},
          "execution_count": 4
        }
      ]
    },
    {
      "cell_type": "markdown",
      "source": [
        "## Tokenization and Prediction\n"
      ],
      "metadata": {
        "id": "X_MwBbouSufY"
      }
    },
    {
      "cell_type": "code",
      "source": [
        "batch = tokenizer(train_1['full_review'].tolist(), truncation=True, padding=True, max_length=128, return_tensors='pt')\n",
        "batch.to(device)\n",
        "model.to(device)\n",
        "\n",
        "with torch.no_grad():\n",
        "  train_outputs = model(**batch)\n",
        "  train_predictions = F.softmax(train_outputs.logits, dim=1)\n",
        "  train_labels = torch.argmax(train_predictions, dim=1)\n",
        "  train_labels = [model.config.id2label[label_id] for label_id in train_labels.tolist()]"
      ],
      "metadata": {
        "id": "TKh0KvTfIB5Q"
      },
      "execution_count": null,
      "outputs": []
    },
    {
      "cell_type": "code",
      "source": [
        "# Filter out where the model fails to correctly classify the text\n",
        "train_pred = pd.DataFrame(train_labels)\n",
        "train_1['pred'] = train_pred\n",
        "\n",
        "# Negative Classification Error ratee\n",
        "train_erros_negative = train_1[(train_1['class'] == 0) & (train_1['pred'] == 'POSITIVE')]\n",
        "train_error_percentage_negative = (train_erros_negative.shape[0]/train_1.shape[0])*100\n",
        "print(f'Error rate for NEGATIVE classification: {train_error_percentage_negative}%')\n",
        "\n",
        "# Positive Classification Error ratee\n",
        "train_erros_positive = train_1[(train_1['class'] == 1) & (train_1['pred'] == 'NEGATIVE')]\n",
        "train_error_percentage_positive = (train_erros_positive.shape[0]/train_1.shape[0])*100\n",
        "print(f'Error rate for POSITIVE classification: {train_error_percentage_positive}%')\n",
        "\n",
        "# Total error rate\n",
        "train_total_error_rate = train_erros_negative.shape[0] + train_erros_positive.shape[0]\n",
        "train_total_error_rate_ = (train_total_error_rate/train_1['pred'].shape[0])*100\n",
        "print(f'Total error rate is: {train_total_error_rate_}%')"
      ],
      "metadata": {
        "colab": {
          "base_uri": "https://localhost:8080/"
        },
        "id": "qKGiE8EwfVa2",
        "outputId": "a7b462e2-2192-44af-868b-5ba2063beea5"
      },
      "execution_count": null,
      "outputs": [
        {
          "output_type": "stream",
          "name": "stdout",
          "text": [
            "Error rate for NEGATIVE classification: 2.0%\n",
            "Error rate for POSITIVE classification: 9.0%\n",
            "Total error rate is: 11.0%\n"
          ]
        }
      ]
    },
    {
      "cell_type": "code",
      "source": [
        "# Faslse Negative\n",
        "train_1.iloc[[91]]"
      ],
      "metadata": {
        "colab": {
          "base_uri": "https://localhost:8080/",
          "height": 81
        },
        "id": "0QOYVQFogdOG",
        "outputId": "aeb070e9-6d33-4979-fe7b-2907642be668"
      },
      "execution_count": null,
      "outputs": [
        {
          "output_type": "execute_result",
          "data": {
            "text/plain": [
              "    class                                        full_review      pred\n",
              "91      1  Why is SOULWAX ignored by critics & consumers ...  NEGATIVE"
            ],
            "text/html": [
              "\n",
              "  <div id=\"df-dcfed7f9-63f8-4b1e-9028-d47f837149fd\" class=\"colab-df-container\">\n",
              "    <div>\n",
              "<style scoped>\n",
              "    .dataframe tbody tr th:only-of-type {\n",
              "        vertical-align: middle;\n",
              "    }\n",
              "\n",
              "    .dataframe tbody tr th {\n",
              "        vertical-align: top;\n",
              "    }\n",
              "\n",
              "    .dataframe thead th {\n",
              "        text-align: right;\n",
              "    }\n",
              "</style>\n",
              "<table border=\"1\" class=\"dataframe\">\n",
              "  <thead>\n",
              "    <tr style=\"text-align: right;\">\n",
              "      <th></th>\n",
              "      <th>class</th>\n",
              "      <th>full_review</th>\n",
              "      <th>pred</th>\n",
              "    </tr>\n",
              "  </thead>\n",
              "  <tbody>\n",
              "    <tr>\n",
              "      <th>91</th>\n",
              "      <td>1</td>\n",
              "      <td>Why is SOULWAX ignored by critics &amp; consumers ...</td>\n",
              "      <td>NEGATIVE</td>\n",
              "    </tr>\n",
              "  </tbody>\n",
              "</table>\n",
              "</div>\n",
              "    <div class=\"colab-df-buttons\">\n",
              "\n",
              "  <div class=\"colab-df-container\">\n",
              "    <button class=\"colab-df-convert\" onclick=\"convertToInteractive('df-dcfed7f9-63f8-4b1e-9028-d47f837149fd')\"\n",
              "            title=\"Convert this dataframe to an interactive table.\"\n",
              "            style=\"display:none;\">\n",
              "\n",
              "  <svg xmlns=\"http://www.w3.org/2000/svg\" height=\"24px\" viewBox=\"0 -960 960 960\">\n",
              "    <path d=\"M120-120v-720h720v720H120Zm60-500h600v-160H180v160Zm220 220h160v-160H400v160Zm0 220h160v-160H400v160ZM180-400h160v-160H180v160Zm440 0h160v-160H620v160ZM180-180h160v-160H180v160Zm440 0h160v-160H620v160Z\"/>\n",
              "  </svg>\n",
              "    </button>\n",
              "\n",
              "  <style>\n",
              "    .colab-df-container {\n",
              "      display:flex;\n",
              "      gap: 12px;\n",
              "    }\n",
              "\n",
              "    .colab-df-convert {\n",
              "      background-color: #E8F0FE;\n",
              "      border: none;\n",
              "      border-radius: 50%;\n",
              "      cursor: pointer;\n",
              "      display: none;\n",
              "      fill: #1967D2;\n",
              "      height: 32px;\n",
              "      padding: 0 0 0 0;\n",
              "      width: 32px;\n",
              "    }\n",
              "\n",
              "    .colab-df-convert:hover {\n",
              "      background-color: #E2EBFA;\n",
              "      box-shadow: 0px 1px 2px rgba(60, 64, 67, 0.3), 0px 1px 3px 1px rgba(60, 64, 67, 0.15);\n",
              "      fill: #174EA6;\n",
              "    }\n",
              "\n",
              "    .colab-df-buttons div {\n",
              "      margin-bottom: 4px;\n",
              "    }\n",
              "\n",
              "    [theme=dark] .colab-df-convert {\n",
              "      background-color: #3B4455;\n",
              "      fill: #D2E3FC;\n",
              "    }\n",
              "\n",
              "    [theme=dark] .colab-df-convert:hover {\n",
              "      background-color: #434B5C;\n",
              "      box-shadow: 0px 1px 3px 1px rgba(0, 0, 0, 0.15);\n",
              "      filter: drop-shadow(0px 1px 2px rgba(0, 0, 0, 0.3));\n",
              "      fill: #FFFFFF;\n",
              "    }\n",
              "  </style>\n",
              "\n",
              "    <script>\n",
              "      const buttonEl =\n",
              "        document.querySelector('#df-dcfed7f9-63f8-4b1e-9028-d47f837149fd button.colab-df-convert');\n",
              "      buttonEl.style.display =\n",
              "        google.colab.kernel.accessAllowed ? 'block' : 'none';\n",
              "\n",
              "      async function convertToInteractive(key) {\n",
              "        const element = document.querySelector('#df-dcfed7f9-63f8-4b1e-9028-d47f837149fd');\n",
              "        const dataTable =\n",
              "          await google.colab.kernel.invokeFunction('convertToInteractive',\n",
              "                                                    [key], {});\n",
              "        if (!dataTable) return;\n",
              "\n",
              "        const docLinkHtml = 'Like what you see? Visit the ' +\n",
              "          '<a target=\"_blank\" href=https://colab.research.google.com/notebooks/data_table.ipynb>data table notebook</a>'\n",
              "          + ' to learn more about interactive tables.';\n",
              "        element.innerHTML = '';\n",
              "        dataTable['output_type'] = 'display_data';\n",
              "        await google.colab.output.renderOutput(dataTable, element);\n",
              "        const docLink = document.createElement('div');\n",
              "        docLink.innerHTML = docLinkHtml;\n",
              "        element.appendChild(docLink);\n",
              "      }\n",
              "    </script>\n",
              "  </div>\n",
              "\n",
              "\n",
              "    </div>\n",
              "  </div>\n"
            ]
          },
          "metadata": {},
          "execution_count": 7
        }
      ]
    },
    {
      "cell_type": "markdown",
      "source": [
        "The sentiment in the above text seems to be negative. The author expresses frustration and confusion about why the band SOULWAX is ignored by both critics and consumers despite their long presence in the music scene and the perceived quality of their work."
      ],
      "metadata": {
        "id": "klgAGdFXYmA0"
      }
    },
    {
      "cell_type": "code",
      "source": [
        "model.config.id2label"
      ],
      "metadata": {
        "colab": {
          "base_uri": "https://localhost:8080/"
        },
        "id": "dvxI0GrMXN5Z",
        "outputId": "ba05a7b3-52a9-412b-a8d9-052a7e6160be"
      },
      "execution_count": null,
      "outputs": [
        {
          "output_type": "execute_result",
          "data": {
            "text/plain": [
              "{0: 'NEGATIVE', 1: 'POSITIVE'}"
            ]
          },
          "metadata": {},
          "execution_count": 8
        }
      ]
    },
    {
      "cell_type": "markdown",
      "source": [
        "## Save and Load Model and Tokenizer"
      ],
      "metadata": {
        "id": "quPdDelGZd4q"
      }
    },
    {
      "cell_type": "code",
      "source": [
        "# Save model weights and tokenizer\n",
        "save_directory = '/content/drive/MyDrive/Colab Notebooks/Prembly/Notebook/model_checkpoint'\n",
        "tokenizer.save_pretrained(save_directory)\n",
        "model.save_pretrained(save_directory)"
      ],
      "metadata": {
        "id": "wicW39iHNS7j"
      },
      "execution_count": null,
      "outputs": []
    },
    {
      "cell_type": "code",
      "source": [
        "# Load model weights and tokenizer\n",
        "# tokenizer = AutoTokenizer.from_pretrained(save_directory)\n",
        "# model = AutoModelForSequenceClassification.from_pretrained(save_directory)"
      ],
      "metadata": {
        "id": "PQS8PESsUf5P"
      },
      "execution_count": null,
      "outputs": []
    },
    {
      "cell_type": "markdown",
      "source": [
        "# Fine Tunning"
      ],
      "metadata": {
        "id": "9iFyDQX1S1Gu"
      }
    },
    {
      "cell_type": "code",
      "source": [
        "# Train Test and Validation\n",
        "X_train, X_temp, y_train, y_temp = train_test_split(train_1['full_review'], train_1['class'], test_size=0.2, stratify=train_1['class'], random_state=42)\n",
        "X_val, X_test, y_val, y_test = train_test_split(X_temp, y_temp, test_size=0.5, random_state=42)\n",
        "\n",
        "# Convert dataframe to list dtype\n",
        "X_train_arr, X_test_arr, X_val_arr = X_train.values.tolist(), X_test.values.tolist(), X_val.values.tolist()\n",
        "\n",
        "# Convert series to np.array\n",
        "y_train_arr, y_test_arr, y_val_arr = np.array(y_train), np.array(y_test), np.array(y_val)\n"
      ],
      "metadata": {
        "id": "UgUA5TcbTTk2"
      },
      "execution_count": null,
      "outputs": []
    },
    {
      "cell_type": "code",
      "source": [
        "# Dataset class\n",
        "class AmazonDataset(Dataset):\n",
        "    def __init__(self, encodings, labels):\n",
        "        self.encodings = encodings\n",
        "        self.labels = labels\n",
        "\n",
        "    def __getitem__(self, idx):\n",
        "        item = {key: torch.tensor(val[idx]) for key, val in self.encodings.items()}\n",
        "        item['labels'] = torch.tensor(self.labels[idx])\n",
        "        return item\n",
        "\n",
        "    def __len__(self):\n",
        "        return len(self.encodings)"
      ],
      "metadata": {
        "id": "jzXy1qjJTYh0"
      },
      "execution_count": null,
      "outputs": []
    },
    {
      "cell_type": "code",
      "source": [
        "# Tokenization for fine-tuning\n",
        "tokenizer = DistilBertTokenizerFast.from_pretrained(model_name)\n",
        "\n",
        "train_encodings =  tokenizer(X_train_arr, truncation=True, padding=True)\n",
        "test_encodings =  tokenizer(X_test_arr, truncation=True, padding=True)\n",
        "val_encodings =  tokenizer(X_val_arr, truncation=True, padding=True)\n",
        "\n",
        "train_dataset = AmazonDataset(train_encodings, y_train_arr)\n",
        "test_dataset = AmazonDataset(test_encodings, y_test_arr)\n",
        "val_dataset = AmazonDataset(val_encodings, y_val_arr)"
      ],
      "metadata": {
        "id": "4vQjTLfBTZcg"
      },
      "execution_count": null,
      "outputs": []
    },
    {
      "cell_type": "code",
      "source": [
        "# Training Aruguments\n",
        "training_args = TrainingArguments(\n",
        "    output_dir = '/content/drive/MyDrive/Colab Notebooks/Prembly/Notebook/results',\n",
        "    num_train_epochs=2,\n",
        "    per_device_train_batch_size=16,\n",
        "    per_device_eval_batch_size=64,\n",
        "    warmup_steps=500,\n",
        "    learning_rate=5e-5,\n",
        "    weight_decay=0.01,\n",
        "    logging_dir='/content/drive/MyDrive/Colab Notebooks/Prembly/Notebook/logs',\n",
        "    logging_steps=10,\n",
        "    # max_steps=100,\n",
        ")"
      ],
      "metadata": {
        "id": "nrGtirimWV-I"
      },
      "execution_count": null,
      "outputs": []
    },
    {
      "cell_type": "code",
      "source": [
        "# Model and Trainer setup for fine-tuning\n",
        "model = DistilBertForSequenceClassification.from_pretrained(save_directory)\n",
        "trainer = Trainer(\n",
        "    model=model,\n",
        "    args=training_args,\n",
        "    train_dataset=train_dataset,\n",
        "    eval_dataset=val_dataset\n",
        ")\n",
        "\n",
        "# Now we feast!\n",
        "trainer.train()"
      ],
      "metadata": {
        "colab": {
          "base_uri": "https://localhost:8080/",
          "height": 110
        },
        "id": "6EznG7BSWXq1",
        "outputId": "c25fb0e3-55c4-437b-f1f8-83fb3f821447"
      },
      "execution_count": null,
      "outputs": [
        {
          "output_type": "display_data",
          "data": {
            "text/plain": [
              "<IPython.core.display.HTML object>"
            ],
            "text/html": [
              "\n",
              "    <div>\n",
              "      \n",
              "      <progress value='2' max='2' style='width:300px; height:20px; vertical-align: middle;'></progress>\n",
              "      [2/2 00:00, Epoch 2/2]\n",
              "    </div>\n",
              "    <table border=\"1\" class=\"dataframe\">\n",
              "  <thead>\n",
              " <tr style=\"text-align: left;\">\n",
              "      <th>Step</th>\n",
              "      <th>Training Loss</th>\n",
              "    </tr>\n",
              "  </thead>\n",
              "  <tbody>\n",
              "  </tbody>\n",
              "</table><p>"
            ]
          },
          "metadata": {}
        },
        {
          "output_type": "execute_result",
          "data": {
            "text/plain": [
              "TrainOutput(global_step=2, training_loss=0.9325298070907593, metrics={'train_runtime': 0.8102, 'train_samples_per_second': 4.937, 'train_steps_per_second': 2.469, 'total_flos': 244236766272.0, 'train_loss': 0.9325298070907593, 'epoch': 2.0})"
            ]
          },
          "metadata": {},
          "execution_count": 31
        }
      ]
    },
    {
      "cell_type": "code",
      "source": [
        "# Evaluation on the test set\n",
        "results = trainer.evaluate(test_dataset)\n",
        "results"
      ],
      "metadata": {
        "colab": {
          "base_uri": "https://localhost:8080/",
          "height": 124
        },
        "id": "uagWA-Qkan6U",
        "outputId": "2be45647-799b-41c5-f6e0-7ad913a0c58d"
      },
      "execution_count": null,
      "outputs": [
        {
          "output_type": "display_data",
          "data": {
            "text/plain": [
              "<IPython.core.display.HTML object>"
            ],
            "text/html": [
              "\n",
              "    <div>\n",
              "      \n",
              "      <progress value='1' max='1' style='width:300px; height:20px; vertical-align: middle;'></progress>\n",
              "      [1/1 : < :]\n",
              "    </div>\n",
              "    "
            ]
          },
          "metadata": {}
        },
        {
          "output_type": "execute_result",
          "data": {
            "text/plain": [
              "{'eval_loss': 0.0006351720076054335,\n",
              " 'eval_runtime': 0.0481,\n",
              " 'eval_samples_per_second': 41.571,\n",
              " 'eval_steps_per_second': 20.785,\n",
              " 'epoch': 2.0}"
            ]
          },
          "metadata": {},
          "execution_count": 32
        }
      ]
    },
    {
      "cell_type": "markdown",
      "source": [
        "## Save the fine tunned model"
      ],
      "metadata": {
        "id": "bujw_wy4nutZ"
      }
    },
    {
      "cell_type": "code",
      "source": [
        "# Save fine-tuned model weights and tokenizer\n",
        "save_directory = '/content/drive/MyDrive/Colab Notebooks/Prembly/Notebook/fine_tunned_model_checkpoint'\n",
        "model.save_pretrained(save_directory)\n",
        "tokenizer.save_pretrained(save_directory)"
      ],
      "metadata": {
        "colab": {
          "base_uri": "https://localhost:8080/"
        },
        "id": "xu4jUuyTnYh9",
        "outputId": "033c89db-43d3-47da-97c8-cd073f22d281"
      },
      "execution_count": null,
      "outputs": [
        {
          "output_type": "execute_result",
          "data": {
            "text/plain": [
              "('/content/drive/MyDrive/Colab Notebooks/Prembly/Notebook/fine_tunned_model_checkpoint/tokenizer_config.json',\n",
              " '/content/drive/MyDrive/Colab Notebooks/Prembly/Notebook/fine_tunned_model_checkpoint/special_tokens_map.json',\n",
              " '/content/drive/MyDrive/Colab Notebooks/Prembly/Notebook/fine_tunned_model_checkpoint/vocab.txt',\n",
              " '/content/drive/MyDrive/Colab Notebooks/Prembly/Notebook/fine_tunned_model_checkpoint/added_tokens.json',\n",
              " '/content/drive/MyDrive/Colab Notebooks/Prembly/Notebook/fine_tunned_model_checkpoint/tokenizer.json')"
            ]
          },
          "metadata": {},
          "execution_count": 33
        }
      ]
    },
    {
      "cell_type": "markdown",
      "source": [
        "# Test data evaluation"
      ],
      "metadata": {
        "id": "ZVpzuJ8vcEYJ"
      }
    },
    {
      "cell_type": "code",
      "source": [
        "# Load fine-tuned model weights and tokenizer\n",
        "tokens = DistilBertTokenizerFast.from_pretrained(save_directory)\n",
        "model = DistilBertForSequenceClassification.from_pretrained(save_directory)"
      ],
      "metadata": {
        "id": "fgGf2ghJn-Lg"
      },
      "execution_count": null,
      "outputs": []
    },
    {
      "cell_type": "code",
      "source": [
        "batch = tokenizer(test_1['full_review'].tolist(), truncation=True, padding=True, max_length=128, return_tensors='pt')\n",
        "batch.to(device)\n",
        "model.to(device)\n",
        "\n",
        "with torch.no_grad():\n",
        "  test_outputs = model(**batch)\n",
        "  test_predictions = F.softmax(test_outputs.logits, dim=1)\n",
        "  test_labels = torch.argmax(test_predictions, dim=1)\n",
        "  test_labels = [model.config.id2label[label_id] for label_id in test_labels.tolist()]"
      ],
      "metadata": {
        "id": "o5atEQh2au0S"
      },
      "execution_count": null,
      "outputs": []
    },
    {
      "cell_type": "code",
      "source": [
        "# Filter out where the model fails to correctly classify the text\n",
        "test_pred = pd.DataFrame(test_labels)\n",
        "test_1['pred'] = test_pred\n",
        "\n",
        "# Negative Classification Error ratee\n",
        "test_erros_negative = test_1[(test_1['class'] == 0) & (test_1['pred'] == 'POSITIVE')]\n",
        "error_percentage_negative = (test_erros_negative.shape[0]/test_1.shape[0])*100\n",
        "print(f'Error rate for NEGATIVE classification: {error_percentage_negative}%')\n",
        "\n",
        "# Positive Classification Error ratee\n",
        "test_erros_positive = test_1[(test_1['class'] == 1) & (test_1['pred'] == 'NEGATIVE')]\n",
        "error_percentage_positive = (test_erros_positive.shape[0]/test_1.shape[0])*100\n",
        "print(f'Error rate for POSITIVE classification: {error_percentage_positive}%')\n",
        "\n",
        "\n",
        "total_error_rate = test_erros_negative.shape[0] + test_erros_positive.shape[0]\n",
        "total_error_rate_ = (total_error_rate/test_1['pred'].shape[0])*100\n",
        "print(f'Total error rate is: {total_error_rate_}%')"
      ],
      "metadata": {
        "colab": {
          "base_uri": "https://localhost:8080/"
        },
        "id": "vRq1RVWGa8pK",
        "outputId": "00535ead-c643-4453-b821-41c7ad69a908"
      },
      "execution_count": null,
      "outputs": [
        {
          "output_type": "stream",
          "name": "stdout",
          "text": [
            "Error rate for NEGATIVE classification: 5.0%\n",
            "Error rate for POSITIVE classification: 8.0%\n",
            "Total error rate is: 13.0%\n"
          ]
        }
      ]
    },
    {
      "cell_type": "code",
      "source": [],
      "metadata": {
        "id": "n12k7sDDcho-"
      },
      "execution_count": null,
      "outputs": []
    },
    {
      "cell_type": "markdown",
      "source": [
        "reference:\n",
        "\n",
        "*   HuggingFace NLP Course [Link](https://huggingface.co/learn/nlp-course/chapter1/1)\n",
        "*   Text Enhancement with ChatGPT\n",
        "\n"
      ],
      "metadata": {
        "id": "baDVDUSxZx39"
      }
    },
    {
      "cell_type": "code",
      "source": [],
      "metadata": {
        "id": "8slWCPgBbHgz"
      },
      "execution_count": null,
      "outputs": []
    }
  ]
}